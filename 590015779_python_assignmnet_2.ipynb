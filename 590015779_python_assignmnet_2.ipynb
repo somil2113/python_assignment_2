{
 "cells": [
  {
   "cell_type": "code",
   "execution_count": 2,
   "id": "6cad0e86-dd25-450b-b0b9-12ceae60e8d8",
   "metadata": {},
   "outputs": [
    {
     "name": "stdout",
     "output_type": "stream",
     "text": [
      "Hello Alice\n",
      "Good Morning Bob\n"
     ]
    }
   ],
   "source": [
    "def greet(name, greeting=\"Hello\"):\n",
    "    return f\"{greeting} {name}\"\n",
    "\n",
    "print(greet(\"Alice\"))\n",
    "print(greet(\"Bob\", \"Good Morning\"))\n"
   ]
  },
  {
   "cell_type": "code",
   "execution_count": 4,
   "id": "dcf5eece-a2a5-4a8c-bde0-aabad93114d1",
   "metadata": {},
   "outputs": [
    {
     "name": "stdout",
     "output_type": "stream",
     "text": [
      "Name: John, Age: 18, City: Chicago\n",
      "Name: Emma, Age: 22, City: Los Angeles\n"
     ]
    }
   ],
   "source": [
    "def create_profile(name, age=18, city=\"Unknown\"):\n",
    "    return f\"Name: {name}, Age: {age}, City: {city}\"\n",
    "\n",
    "print(create_profile(name=\"John\", city=\"Chicago\"))\n",
    "print(create_profile(name=\"Emma\", age=22, city=\"Los Angeles\"))\n"
   ]
  },
  {
   "cell_type": "code",
   "execution_count": 6,
   "id": "8009f03d-7bc1-4016-a5b6-ed7a96c5d6ec",
   "metadata": {},
   "outputs": [
    {
     "name": "stdout",
     "output_type": "stream",
     "text": [
      "(6, {})\n",
      "(3, {'x': 4, 'y': 5})\n"
     ]
    }
   ],
   "source": [
    "def sum_numbers(*args, **kwargs):\n",
    "    total = sum(arg for arg in args if isinstance(arg, (int, float)))\n",
    "    return total, kwargs\n",
    "\n",
    "print(sum_numbers(1, 2, 3))\n",
    "print(sum_numbers(1, 2, x=4, y=5))\n"
   ]
  },
  {
   "cell_type": "code",
   "execution_count": 8,
   "id": "dd9af365-274c-4bfb-b8cb-cdf1542aa9f1",
   "metadata": {},
   "outputs": [
    {
     "name": "stdout",
     "output_type": "stream",
     "text": [
      "[1, 4, 9, 16]\n"
     ]
    }
   ],
   "source": [
    "def square_list(numbers):\n",
    "    return list(map(lambda x: x ** 2, numbers))\n",
    "\n",
    "print(square_list([1, 2, 3, 4]))\n"
   ]
  },
  {
   "cell_type": "code",
   "execution_count": 10,
   "id": "cb710338-46ac-46f5-9fd5-18b1420de076",
   "metadata": {},
   "outputs": [
    {
     "name": "stdout",
     "output_type": "stream",
     "text": [
      "[2, 4]\n"
     ]
    }
   ],
   "source": [
    "def filter_odd_numbers(numbers):\n",
    "    return list(filter(lambda x: x % 2 == 0, numbers))\n",
    "\n",
    "print(filter_odd_numbers([1, 2, 3, 4, 5]))\n"
   ]
  },
  {
   "cell_type": "code",
   "execution_count": 12,
   "id": "709aeb66-560f-438d-a4c8-64015b73c692",
   "metadata": {},
   "outputs": [
    {
     "name": "stdout",
     "output_type": "stream",
     "text": [
      "[0, 1, 4, 9, 16]\n"
     ]
    }
   ],
   "source": [
    "squares = [x ** 2 for x in range(5)]\n",
    "print(squares)\n"
   ]
  },
  {
   "cell_type": "code",
   "execution_count": 21,
   "id": "b95a519e-ec14-4688-bc73-17572ac8d941",
   "metadata": {},
   "outputs": [],
   "source": [
    "import os\n",
    "import time\n",
    "\n",
    "def file_operations():\n",
    "    os.makedirs(\"test_folder\")\n",
    "    time.sleep(3)\n",
    "    os.rmdir(\"test_folder\")\n",
    "\n",
    "file_operations()\n"
   ]
  },
  {
   "cell_type": "code",
   "execution_count": 23,
   "id": "70645e7c-0f9a-4768-a8d7-2aae02fd0073",
   "metadata": {},
   "outputs": [
    {
     "name": "stdout",
     "output_type": "stream",
     "text": [
      "Paused execution...\n"
     ]
    }
   ],
   "source": [
    "from time import sleep as pause\n",
    "\n",
    "pause(2)\n",
    "print(\"Paused execution...\")\n"
   ]
  },
  {
   "cell_type": "code",
   "execution_count": 25,
   "id": "7c1e2a62-9236-47e6-b747-08db03d5d4dc",
   "metadata": {},
   "outputs": [
    {
     "name": "stdout",
     "output_type": "stream",
     "text": [
      "[1, 2, 3, 4, 5, 6]\n"
     ]
    }
   ],
   "source": [
    "def flatten_list(nested_list):\n",
    "    flat_list = []\n",
    "    for item in nested_list:\n",
    "        if isinstance(item, list):\n",
    "            flat_list.extend(flatten_list(item))\n",
    "        else:\n",
    "            flat_list.append(item)\n",
    "    return flat_list\n",
    "\n",
    "print(flatten_list([1, [2, 3], [[4, 5], 6]]))\n"
   ]
  },
  {
   "cell_type": "code",
   "execution_count": null,
   "id": "e0f47372-2315-4c4d-bfa1-1a1f08a3e5cf",
   "metadata": {},
   "outputs": [],
   "source": []
  }
 ],
 "metadata": {
  "kernelspec": {
   "display_name": "Python 3 (ipykernel)",
   "language": "python",
   "name": "python3"
  },
  "language_info": {
   "codemirror_mode": {
    "name": "ipython",
    "version": 3
   },
   "file_extension": ".py",
   "mimetype": "text/x-python",
   "name": "python",
   "nbconvert_exporter": "python",
   "pygments_lexer": "ipython3",
   "version": "3.12.4"
  }
 },
 "nbformat": 4,
 "nbformat_minor": 5
}
